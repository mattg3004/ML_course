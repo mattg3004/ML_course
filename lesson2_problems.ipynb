{
 "cells": [
  {
   "cell_type": "markdown",
   "metadata": {},
   "source": [
    "# Lesson 1 - Problem Set\n",
    "\n",
    "Please solve the questions in this notebook and submit the completed notebook. The timestamp of submission will be considered the timestamp of completion.\n",
    "\n",
    "1. What is the Central Limit Theorem? $_{5\\text{pts}}$\n",
    "\n",
    "2. Suppose I sell Banh Mi, and the probability that I will receive a customer in any given hour is modeled by the data in `customer_pmf`. Write a python function which shows how the CLT arises from the provided distribution.\n",
    "\n",
    "3. Let's assume that `voter_age_country` contains age data for the entire country of Thailand, and `voter_age_province` contains age data for the province of Amnat Charoen, which is the second most populous province in Thailand. You work for a political firm which is trying to determine voter turn out in Amnat Charoen. In order to more effectively target your advertising dollars, you decide to see analyze the average age of voters in Shanta. Thus you decide to test whether the average age of voters in Amnat Charoen differs from the average age of voters in the entire population of Thailand.\n",
    "> Using the Hypothesis Testing methodology outlined during class, determine whether the average age of voters in Amnat Charoen differs from the entire population. $_{20\\text{pts}}$"
   ]
  },
  {
   "cell_type": "code",
   "execution_count": 108,
   "metadata": {},
   "outputs": [],
   "source": [
    "import numpy as np\n",
    "import pandas as pd\n",
    "import scipy as sp\n",
    "import matplotlib.pyplot as plt\n",
    "#### Problem 2 data ###\n",
    "customer_pmf = np.random.poisson(12, size=50000)\n",
    "\n",
    "#### Problem 3 data ####\n",
    "voter_age_country = np.concatenate([np.random.poisson(35,size=15000),np.random.poisson(10,size=10000)])\n",
    "voter_age_province = np.concatenate([np.random.poisson(30,size=30),np.random.poisson(10,size=20)])"
   ]
  },
  {
   "cell_type": "markdown",
   "metadata": {},
   "source": [
    "# Q1\n",
    "The central limit theorem states that if we have a distribution with any shape and we sample from this distribution and calculate the mean of this sample, then if we repeat this process many times, then the distribution of the means will have a normal distribution. The mean of this normal distribution will be equal to the mean of the initial distribution (by the law of large numbers), and the standard deviation of the normal distribution will be equal to the standard deviation of the initial distribution divided by the square root of the size of the samples we take."
   ]
  },
  {
   "cell_type": "markdown",
   "metadata": {},
   "source": [
    "# Q2"
   ]
  },
  {
   "cell_type": "code",
   "execution_count": 36,
   "metadata": {},
   "outputs": [
    {
     "name": "stdout",
     "output_type": "stream",
     "text": [
      "Difference in means is -0.00027850000000206876\n",
      "Difference in standard deviation from the limit of the standard deviations is 0.0007692037509372529\n"
     ]
    },
    {
     "data": {
      "image/png": "[encoded data removed]",
      "text/plain": [
       "<Figure size 432x288 with 1 Axes>"
      ]
     },
     "metadata": {},
     "output_type": "display_data"
    }
   ],
   "source": [
    "num_samps = 100000\n",
    "samp_size = 100\n",
    "means = []\n",
    "\n",
    "for i in range(num_samps):\n",
    "    sample = np.random.choice(customer_pmf, size = samp_size)\n",
    "    means.append(np.mean(sample))\n",
    "    \n",
    "    \n",
    "plt.hist(means, bins = np.arange(np.min(means), np.max(means), 1/samp_size))\n",
    "\n",
    "print(\"Difference in means is\", np.mean(means) - np.mean(customer_pmf))\n",
    "print(\"Difference in standard deviation from the limit of the standard deviations is\", \n",
    "      np.std(means) - np.std(customer_pmf) / np.sqrt(samp_size))\n"
   ]
  },
  {
   "cell_type": "markdown",
   "metadata": {},
   "source": [
    "# Q3"
   ]
  },
  {
   "cell_type": "code",
   "execution_count": 178,
   "metadata": {},
   "outputs": [
    {
     "data": {
      "image/png": "[encoded data removed]",
      "text/plain": [
       "<Figure size 432x288 with 1 Axes>"
      ]
     },
     "metadata": {},
     "output_type": "display_data"
    }
   ],
   "source": [
    "plt.hist(voter_age_country, bins = np.arange(0,60,1));"
   ]
  },
  {
   "cell_type": "code",
   "execution_count": 179,
   "metadata": {},
   "outputs": [
    {
     "data": {
      "image/png": "[encoded data removed]",
      "text/plain": [
       "<Figure size 432x288 with 1 Axes>"
      ]
     },
     "metadata": {},
     "output_type": "display_data"
    }
   ],
   "source": [
    "plt.hist(voter_age_province, bins = np.arange(0,60,1));"
   ]
  },
  {
   "cell_type": "markdown",
   "metadata": {},
   "source": [
    "1) Null hypothesis: The mean of the country and province data are the same\n",
    "   Alternative hypothesis: The mean of the country and province data are not the same\n",
    "\n",
    "2) The distributions are not normal, so use the central limit theorem to test if the means are the same using the t-test.\n",
    "\n",
    "3) Choose a 0.05 level of significance to reject the null hypothesis.\n",
    "\n",
    "4) We will use the t-test to assess whether the means are the same or not."
   ]
  },
  {
   "cell_type": "code",
   "execution_count": 92,
   "metadata": {},
   "outputs": [],
   "source": [
    "# write a function to output the distribution of sampled means of a distribution\n",
    "# given the distribution in question, the number of samples to take and the sample size\n",
    "\n",
    "def clt_means(num_samples, samp_size, init_dist):\n",
    "    means = []\n",
    "\n",
    "    for i in range(num_samples):\n",
    "        sample = np.random.choice(init_dist, size = samp_size)\n",
    "        means.append(np.mean(sample))\n",
    "    \n",
    "    return(means);"
   ]
  },
  {
   "cell_type": "code",
   "execution_count": 174,
   "metadata": {},
   "outputs": [],
   "source": [
    "# generate distributions of the means for the country and province data\n",
    "\n",
    "voter_age_country_clt = clt_means(num_samples=10000, samp_size = 50, init_dist= voter_age_country)\n",
    "voter_age_province_clt = clt_means(num_samples=10000, samp_size = 50, init_dist= voter_age_province)"
   ]
  },
  {
   "cell_type": "code",
   "execution_count": 175,
   "metadata": {},
   "outputs": [
    {
     "name": "stdout",
     "output_type": "stream",
     "text": [
      "1.560434528424695\n",
      "1.8608551568770741\n",
      "23.45645\n",
      "24.974318\n"
     ]
    }
   ],
   "source": [
    "print(np.std(voter_age_province_clt))\n",
    "print(np.std(voter_age_country_clt))\n",
    "\n",
    "print(np.mean(voter_age_province_clt))\n",
    "print(np.mean(voter_age_country_clt))"
   ]
  },
  {
   "cell_type": "code",
   "execution_count": 176,
   "metadata": {},
   "outputs": [
    {
     "data": {
      "image/png": "[encoded data removed]",
      "text/plain": [
       "<Figure size 432x288 with 1 Axes>"
      ]
     },
     "metadata": {},
     "output_type": "display_data"
    }
   ],
   "source": [
    "# plot the distributions\n",
    "\n",
    "plt.hist(voter_age_country_clt, bins = np.arange(np.min(voter_age_country_clt), np.max(voter_age_country_clt), 0.1));\n",
    "plt.hist(voter_age_province_clt, bins = np.arange(np.min(voter_age_province_clt), np.max(voter_age_province_clt), 0.1));"
   ]
  },
  {
   "cell_type": "code",
   "execution_count": 177,
   "metadata": {},
   "outputs": [
    {
     "data": {
      "text/plain": [
       "Ttest_indResult(statistic=62.49849475831103, pvalue=0.0)"
      ]
     },
     "execution_count": 177,
     "metadata": {},
     "output_type": "execute_result"
    }
   ],
   "source": [
    "from scipy import stats\n",
    "\n",
    "# run the t-test\n",
    "stats.ttest_ind(voter_age_country_clt, voter_age_province_clt, equal_var= False)"
   ]
  },
  {
   "cell_type": "markdown",
   "metadata": {},
   "source": [
    "The t-test produces a p-value well below the level of significance (effectively 0), so we reject the null hypothesis and conclude that the distributions have different means."
   ]
  }
 ],
 "metadata": {
  "kernelspec": {
   "display_name": "Python 3",
   "language": "python",
   "name": "python3"
  },
  "language_info": {
   "codemirror_mode": {
    "name": "ipython",
    "version": 3
   },
   "file_extension": ".py",
   "mimetype": "text/x-python",
   "name": "python",
   "nbconvert_exporter": "python",
   "pygments_lexer": "ipython3",
   "version": "3.6.5"
  }
 },
 "nbformat": 4,
 "nbformat_minor": 2
}
