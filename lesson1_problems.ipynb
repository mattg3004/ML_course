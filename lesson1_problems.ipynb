{
 "cells": [
  {
   "cell_type": "markdown",
   "metadata": {},
   "source": [
    "# Lesson 1 - Problem Set\n",
    "\n",
    "Please solve the questions in this notebook and submit the completed notebook. The timestamp of submission will be considered the timestamp of completion.\n",
    "\n",
    "1. Create a 3x3x3 array with random values. $_{5\\text{pts}}$\n",
    "\n",
    "1. Create a 4x4 matrix with row values ranging from 0 to 3. $_{5\\text{pts}}$\n",
    "\n",
    "1. Create a random numpy array with 25 elements in sorted order (from least to greatest). $_{5\\text{pts}}$\n",
    "\n",
    "1. Write a function which takes a numpy array `arr` and a scalar `n` and returns the closest value in the array to the provided scalar `n`. $_{10\\text{pts}}$.\n",
    "\n",
    "    **Hint**: Consider the [argmin](https://docs.scipy.org/doc/numpy/reference/generated/numpy.argmin.html) function provided by numpy\n",
    "    \n",
    "1. In the first lesson, we saw the use of the [matplotlib](https://matplotlib.org/) library to generate graphical representations of our data. Using this library, we are going to plot a normal distribution. $_{10\\text{pts}}$.\n",
    "    1. Using the terms mean, variance, and standard deviation, describe a uniform distribution? $_{2\\text{pts}}$.\n",
    "    1. Using the terms mean, variance, and standard deviation, describe a normal distribution? $_{2\\text{pts}}$.\n",
    "    1. Using the [normal](https://docs.scipy.org/doc/numpy-1.14.0/reference/generated/numpy.random.normal.html) function, generate a numpy array of normally distributed numbers. $_{2\\text{pts}}$. (*Hint: Generate the distribution by leveraging your knowledge of mean, variance, and standard deviation.*)\n",
    "    1. What is a histogram? $_{2\\text{pts}}$.\n",
    "    1. Plot a histogram of the normally distributed data that you generated above. $_{2\\text{pts}}$.\n",
    "\n",
    "1. Using a histogram, plot normally sampled data in order to answer the following questions. $_{5\\text{pts}}$.\n",
    "    1. What happens when you change the mean? $_{2.5\\text{pts}}$.\n",
    "    1. What happens when you change the standard deviation? $_{2.5\\text{pts}}$."
   ]
  },
  {
   "cell_type": "code",
   "execution_count": 1,
   "metadata": {},
   "outputs": [],
   "source": [
    "import numpy as np\n",
    "import matplotlib.pyplot as plt"
   ]
  },
  {
   "cell_type": "markdown",
   "metadata": {},
   "source": [
    "# Q1"
   ]
  },
  {
   "cell_type": "code",
   "execution_count": 2,
   "metadata": {},
   "outputs": [
    {
     "data": {
      "text/plain": [
       "array([[[8, 1, 0],\n",
       "        [0, 7, 6],\n",
       "        [1, 3, 1]],\n",
       "\n",
       "       [[8, 0, 5],\n",
       "        [0, 7, 6],\n",
       "        [0, 5, 5]],\n",
       "\n",
       "       [[7, 2, 7],\n",
       "        [0, 8, 3],\n",
       "        [3, 6, 8]]])"
      ]
     },
     "execution_count": 2,
     "metadata": {},
     "output_type": "execute_result"
    }
   ],
   "source": [
    "# 1\n",
    "\n",
    "A = np.random.randint(9, size=(3, 3, 3))\n",
    "A"
   ]
  },
  {
   "cell_type": "markdown",
   "metadata": {},
   "source": [
    "# Q2"
   ]
  },
  {
   "cell_type": "code",
   "execution_count": 3,
   "metadata": {},
   "outputs": [
    {
     "data": {
      "text/plain": [
       "array([[0, 0, 0, 0],\n",
       "       [1, 1, 1, 1],\n",
       "       [2, 2, 2, 2],\n",
       "       [3, 3, 3, 3]])"
      ]
     },
     "execution_count": 3,
     "metadata": {},
     "output_type": "execute_result"
    }
   ],
   "source": [
    "#2\n",
    "\n",
    "#B = [np.repeat(0,4), np.repeat(1,4), np.repeat(2,4), np.repeat(3,4)]\n",
    "\n",
    "B = np.array([[0,0,0,0], [1,1,1,1], [2,2,2,2], [3,3,3,3]])\n",
    "B"
   ]
  },
  {
   "cell_type": "markdown",
   "metadata": {},
   "source": [
    "# Q3"
   ]
  },
  {
   "cell_type": "code",
   "execution_count": 4,
   "metadata": {},
   "outputs": [
    {
     "data": {
      "text/plain": [
       "array([ 1,  2,  2,  3,  6, 11, 11, 12, 14, 15, 16, 16, 20, 22, 26, 32, 33,\n",
       "       38, 39, 40, 40, 42, 43, 44, 47])"
      ]
     },
     "execution_count": 4,
     "metadata": {},
     "output_type": "execute_result"
    }
   ],
   "source": [
    "#3\n",
    "\n",
    "C = np.sort(np.random.randint(50, size = 25))\n",
    "C"
   ]
  },
  {
   "cell_type": "markdown",
   "metadata": {},
   "source": [
    "# Q4"
   ]
  },
  {
   "cell_type": "code",
   "execution_count": 5,
   "metadata": {},
   "outputs": [],
   "source": [
    "#4\n",
    "\n",
    "def closest_arg(arr, n):\n",
    "    # first flatten the array in case we don't have a 1-D list of numbers\n",
    "    arr = arr.flatten()\n",
    "    # take n from each member of the array\n",
    "    b = arr - n\n",
    "    # find the minimum of the absolute value of these differences. Take the absolute values\n",
    "    # as otherwise the lowest number in the array will always be returned\n",
    "    abs_min = np.argmin(abs(b))\n",
    "    # as it is possible that there could be numbers higher and lower than the chosen number\n",
    "    # by the same amount, we need to select entries which have the same value of the absolute difference\n",
    "    c = arr[abs(b) == abs(b[abs_min])]\n",
    "    # return unique values from this matrix\n",
    "    return(np.unique(c))"
   ]
  },
  {
   "cell_type": "code",
   "execution_count": 6,
   "metadata": {},
   "outputs": [
    {
     "name": "stdout",
     "output_type": "stream",
     "text": [
      "Test 1) Randomly generated array is [32 35 27 23 11]\n",
      "Closest number or numbers to 9 are [11]\n",
      "\n",
      "Test 2) array is [1 3 1 3 1 3] and closest number or numbers to 2 are [1 3]\n",
      "\n",
      "Test 3) Randomly generated array is \n",
      "[[[17 46 89]\n",
      "  [41 19 71]\n",
      "  [88 14 20]]\n",
      "\n",
      " [[31 88 81]\n",
      "  [95 37 35]\n",
      "  [75 52 54]]\n",
      "\n",
      " [[61 98 74]\n",
      "  [60 36 89]\n",
      "  [58 46 10]]]\n",
      "Closest number or numbers to 50 are [52]\n"
     ]
    }
   ],
   "source": [
    "# choose a number to find closest entries to\n",
    "n = 9\n",
    "\n",
    "\n",
    "# test this function by generating a random function\n",
    "arr = np.array(np.random.randint(50, size = 5))\n",
    "print(\"Test 1) Randomly generated array is \", arr, sep = \"\")\n",
    "print(\"Closest number or numbers to \", n, \" are \", closest_arg(arr, n), \"\\n\", sep = \"\")\n",
    "\n",
    "\n",
    "# choose another number to find closest entries to\n",
    "n=2\n",
    "# also test this with a chosen example to ensure that the \n",
    "# lower and higher values are displayed if equally close\n",
    "arr = np.array([1,3,1,3,1,3])\n",
    "print(\"Test 2) array is \", arr,\" and closest number or numbers to \", n, \" are \", closest_arg(arr, n), \"\\n\", sep = \"\")\n",
    "\n",
    "\n",
    "# Test whether it works with a 3x3x3 array\n",
    "n=50\n",
    "arr = np.random.randint(100, size=(3, 3, 3))\n",
    "print(\"Test 3) Randomly generated array is \\n\", arr, sep = \"\")\n",
    "print(\"Closest number or numbers to \", n, \" are \", closest_arg(arr, n), sep = \"\") "
   ]
  },
  {
   "cell_type": "markdown",
   "metadata": {},
   "source": [
    "# Q5"
   ]
  },
  {
   "cell_type": "markdown",
   "metadata": {},
   "source": [
    "5A) The uniform distribution is defined as having 0 probablility outside a specified range ([a,b] say), and constant probability density of 1/(b-a) for values within [a,b], meaning all values in this range have equal probability. Mean and median are both given by (a+b)/2. The variance is ((b-a)^2)/12 and the standard deviation is the square root of this value.\n",
    "\n",
    "5B) A normal distribution has infinite support, with some specified mean and variance. For a normal distribution approximately 95% of all values lie within 2 standard deviations either side of the mean. There is 0 skew to this distribution meaning that values are equally distributed either side of the mean (for a univariate normal distribution anyway).\n",
    "\n"
   ]
  },
  {
   "cell_type": "code",
   "execution_count": 7,
   "metadata": {},
   "outputs": [
    {
     "data": {
      "text/plain": [
       "array([-1.00639547, -0.43494971,  0.17393717, ..., -0.76557399,\n",
       "        0.81464766,  0.41528536])"
      ]
     },
     "execution_count": 7,
     "metadata": {},
     "output_type": "execute_result"
    }
   ],
   "source": [
    "# 5C\n",
    "\n",
    "mu = 0\n",
    "sigma = 1\n",
    "n = 10000\n",
    "\n",
    "normal_array = np.array(np.random.normal(mu, sigma, n))\n",
    "normal_array"
   ]
  },
  {
   "cell_type": "markdown",
   "metadata": {},
   "source": [
    "# 5D \n",
    "For a given list of numbers, a histogram estimates the distribution of these numbers by displaying the frequency of values falling within specified intervals."
   ]
  },
  {
   "cell_type": "code",
   "execution_count": 8,
   "metadata": {},
   "outputs": [
    {
     "data": {
      "text/plain": [
       "(array([   6.,   56.,  375., 1302., 2665., 2996., 1822.,  663.,  104.,\n",
       "          11.]),\n",
       " array([-4.09378386, -3.30432974, -2.51487562, -1.7254215 , -0.93596738,\n",
       "        -0.14651326,  0.64294086,  1.43239498,  2.2218491 ,  3.01130322,\n",
       "         3.80075733]),\n",
       " <a list of 10 Patch objects>)"
      ]
     },
     "execution_count": 8,
     "metadata": {},
     "output_type": "execute_result"
    },
    {
     "data": {
      "image/png": "[encoded data removed]",
      "text/plain": [
       "<Figure size 432x288 with 1 Axes>"
      ]
     },
     "metadata": {},
     "output_type": "display_data"
    }
   ],
   "source": [
    "# 5E\n",
    "\n",
    "plt.hist(normal_array)"
   ]
  },
  {
   "cell_type": "markdown",
   "metadata": {},
   "source": [
    "# Q6"
   ]
  },
  {
   "cell_type": "code",
   "execution_count": 9,
   "metadata": {},
   "outputs": [
    {
     "data": {
      "text/plain": [
       "(array([6.000e+00, 6.000e+01, 4.230e+02, 1.704e+03, 3.055e+03, 3.008e+03,\n",
       "        1.356e+03, 3.450e+02, 4.000e+01, 3.000e+00]),\n",
       " array([ 5.85204832,  6.69557538,  7.53910243,  8.38262949,  9.22615655,\n",
       "        10.0696836 , 10.91321066, 11.75673771, 12.60026477, 13.44379182,\n",
       "        14.28731888]),\n",
       " <a list of 10 Patch objects>)"
      ]
     },
     "execution_count": 9,
     "metadata": {},
     "output_type": "execute_result"
    },
    {
     "data": {
      "image/png": "[encoded data removed]",
      "text/plain": [
       "<Figure size 432x288 with 1 Axes>"
      ]
     },
     "metadata": {},
     "output_type": "display_data"
    }
   ],
   "source": [
    "# 6A, the normal distribution is approximately centred around the mean\n",
    "\n",
    "# first distribution with mean = 0 is plotted in blue\n",
    "\n",
    "mu = 0\n",
    "sigma = 1\n",
    "normal_array = np.array(np.random.normal(mu, sigma, n))\n",
    "plt.hist(normal_array)\n",
    "\n",
    "# second distribution with mean = 10 is plotted in orange\n",
    "mu = 10\n",
    "normal_array = np.array(np.random.normal(mu, sigma, n))\n",
    "plt.hist(normal_array)"
   ]
  },
  {
   "cell_type": "code",
   "execution_count": 10,
   "metadata": {},
   "outputs": [
    {
     "data": {
      "text/plain": [
       "(array([1.000e+00, 1.700e+01, 1.420e+02, 7.030e+02, 1.921e+03, 2.955e+03,\n",
       "        2.585e+03, 1.262e+03, 3.570e+02, 5.700e+01]),\n",
       " array([-4.44991206, -3.67680371, -2.90369536, -2.13058701, -1.35747866,\n",
       "        -0.58437031,  0.18873804,  0.96184639,  1.73495474,  2.50806309,\n",
       "         3.28117144]),\n",
       " <a list of 10 Patch objects>)"
      ]
     },
     "execution_count": 10,
     "metadata": {},
     "output_type": "execute_result"
    },
    {
     "data": {
      "image/png": "[encoded data removed]",
      "text/plain": [
       "<Figure size 432x288 with 1 Axes>"
      ]
     },
     "metadata": {},
     "output_type": "display_data"
    }
   ],
   "source": [
    "# 6B, increasing the standard deviation increases the spread of the distribution\n",
    "\n",
    "mu = 0\n",
    "sigma = 1\n",
    "normal_array = np.array(np.random.normal(mu, sigma, n))\n",
    "plt.hist(normal_array)"
   ]
  },
  {
   "cell_type": "code",
   "execution_count": 11,
   "metadata": {},
   "outputs": [
    {
     "data": {
      "text/plain": [
       "(array([  26.,  197.,  860., 2224., 2996., 2366., 1019.,  271.,   35.,\n",
       "           6.]), array([-17.71364842, -13.83998823,  -9.96632804,  -6.09266785,\n",
       "         -2.21900767,   1.65465252,   5.52831271,   9.40197289,\n",
       "         13.27563308,  17.14929327,  21.02295346]), <a list of 10 Patch objects>)"
      ]
     },
     "execution_count": 11,
     "metadata": {},
     "output_type": "execute_result"
    },
    {
     "data": {
      "image/png": "[encoded data removed]",
      "text/plain": [
       "<Figure size 432x288 with 1 Axes>"
      ]
     },
     "metadata": {},
     "output_type": "display_data"
    }
   ],
   "source": [
    "# There is a larger spread of the data around the mean with the higher value of the standard deviation.\n",
    "\n",
    "sigma = 5\n",
    "normal_array = np.array(np.random.normal(mu, sigma, n))\n",
    "plt.hist(normal_array)"
   ]
  }
 ],
 "metadata": {
  "kernelspec": {
   "display_name": "Python 3",
   "language": "python",
   "name": "python3"
  },
  "language_info": {
   "codemirror_mode": {
    "name": "ipython",
    "version": 3
   },
   "file_extension": ".py",
   "mimetype": "text/x-python",
   "name": "python",
   "nbconvert_exporter": "python",
   "pygments_lexer": "ipython3",
   "version": "3.6.5"
  }
 },
 "nbformat": 4,
 "nbformat_minor": 2
}
